{
 "cells": [
  {
   "cell_type": "code",
   "execution_count": 23,
   "id": "e8e99b1c",
   "metadata": {},
   "outputs": [
    {
     "name": "stdout",
     "output_type": "stream",
     "text": [
      "True\n"
     ]
    }
   ],
   "source": [
    "#basic practice \n",
    "#string manipulation\n",
    "#by Peter Voller\n",
    "\n",
    "\n",
    "#counts instances of characters in a string\n",
    "def counter(l,word):\n",
    "    c = 0\n",
    "    for i in range(len(word)):\n",
    "        if (word[i] == l):\n",
    "            c+=1\n",
    "    \n",
    "    return c\n",
    "\n",
    "\n",
    "#counts the number of vowels in a string\n",
    "#can also be used to count consenents by subtracting word legnth - countVowels\n",
    "def countVowels(word):\n",
    "    c = 0\n",
    "    #probably not the most efficient but...\n",
    "    for i in range(len(word)):\n",
    "        if (word[i] == 'a'):\n",
    "            c += 1\n",
    "        elif (word[i] == 'e'):\n",
    "            c += 1\n",
    "        elif (word[i] == 'i'):\n",
    "            c += 1\n",
    "        elif (word[i] == 'o'):\n",
    "            c += 1\n",
    "        elif (word[i] == 'u'):\n",
    "            c += 1\n",
    "    return c\n",
    "\n",
    "\n",
    "#returns reversed string\n",
    "def reverse(word):\n",
    "    b = ''\n",
    "    for i in range(1,len(word)+1):\n",
    "        b += word[-i]\n",
    "        \n",
    "    return b\n",
    "\n",
    "\n",
    "#answers is string a palindrome?\n",
    "def isPalindrome(word):\n",
    "    x = False\n",
    "    if (reverse(word) == word):\n",
    "        x = True\n",
    "        \n",
    "    return x\n",
    "    \n",
    "\n",
    "#answers is string 1 and string 2 anagrams of each other?\n",
    "#I am defining anagram as having the same number of letters, so 'cat' and 'at' aren't anagrams\n",
    "def isAnagram(word1, word2):\n",
    "    x = True\n",
    "    \n",
    "    l1 = []\n",
    "    l2 = []\n",
    "    if (len(word1) != len(word2)):\n",
    "        x = False\n",
    "    else:\n",
    "        for i in range(len(word1)):\n",
    "            if (word1[i] not in word2):\n",
    "                x = False\n",
    "                \n",
    "    return x\n",
    "                \n",
    "    \n",
    "    \n",
    "    \n",
    "print(isAnagram('tcaa','acat'))\n",
    "\n",
    "\n",
    "\n",
    "\n",
    "\n"
   ]
  },
  {
   "cell_type": "code",
   "execution_count": null,
   "id": "10e2cf41",
   "metadata": {},
   "outputs": [],
   "source": []
  }
 ],
 "metadata": {
  "kernelspec": {
   "display_name": "Python 3 (ipykernel)",
   "language": "python",
   "name": "python3"
  },
  "language_info": {
   "codemirror_mode": {
    "name": "ipython",
    "version": 3
   },
   "file_extension": ".py",
   "mimetype": "text/x-python",
   "name": "python",
   "nbconvert_exporter": "python",
   "pygments_lexer": "ipython3",
   "version": "3.11.1"
  }
 },
 "nbformat": 4,
 "nbformat_minor": 5
}
